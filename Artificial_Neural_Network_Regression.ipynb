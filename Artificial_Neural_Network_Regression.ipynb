{
  "nbformat": 4,
  "nbformat_minor": 0,
  "metadata": {
    "colab": {
      "name": "Artificial Neural Network_Regression",
      "provenance": [],
      "collapsed_sections": [],
      "toc_visible": true
    },
    "kernelspec": {
      "name": "python3",
      "display_name": "Python 3"
    }
  },
  "cells": [
    {
      "cell_type": "markdown",
      "metadata": {
        "id": "3cbb7fRy-eyr"
      },
      "source": [
        "# Artificial Neural Network"
      ]
    },
    {
      "cell_type": "markdown",
      "metadata": {
        "id": "8sNDnxE2-pwE"
      },
      "source": [
        "### Importing the libraries"
      ]
    },
    {
      "cell_type": "code",
      "metadata": {
        "id": "lxChR1Rk-umf"
      },
      "source": [
        "import numpy as np\n",
        "import pandas as pd\n",
        "import tensorflow as tf"
      ],
      "execution_count": 22,
      "outputs": []
    },
    {
      "cell_type": "code",
      "metadata": {
        "id": "uBTqR3nacj0e",
        "colab": {
          "base_uri": "https://localhost:8080/",
          "height": 35
        },
        "outputId": "caf8f1ec-c934-4682-aeb3-4a442bec7eb7"
      },
      "source": [
        "tf.__version__"
      ],
      "execution_count": 23,
      "outputs": [
        {
          "output_type": "execute_result",
          "data": {
            "application/vnd.google.colaboratory.intrinsic+json": {
              "type": "string"
            },
            "text/plain": [
              "'2.4.1'"
            ]
          },
          "metadata": {
            "tags": []
          },
          "execution_count": 23
        }
      ]
    },
    {
      "cell_type": "markdown",
      "metadata": {
        "id": "AG3FQEch-yuA"
      },
      "source": [
        "## Part 1 - Data Preprocessing"
      ]
    },
    {
      "cell_type": "markdown",
      "metadata": {
        "id": "-4zq8Mza_D9O"
      },
      "source": [
        "### Importing the dataset"
      ]
    },
    {
      "cell_type": "code",
      "metadata": {
        "id": "Q8Ro-YMOnVb9"
      },
      "source": [
        "dataset =pd.read_excel('Folds5x2_pp.xlsx')"
      ],
      "execution_count": 24,
      "outputs": []
    },
    {
      "cell_type": "code",
      "metadata": {
        "colab": {
          "base_uri": "https://localhost:8080/",
          "height": 204
        },
        "id": "TCv3N74uoAId",
        "outputId": "62becfaa-f2c0-4fe7-f27b-d2721f0bd577"
      },
      "source": [
        "dataset.head()"
      ],
      "execution_count": 25,
      "outputs": [
        {
          "output_type": "execute_result",
          "data": {
            "text/html": [
              "<div>\n",
              "<style scoped>\n",
              "    .dataframe tbody tr th:only-of-type {\n",
              "        vertical-align: middle;\n",
              "    }\n",
              "\n",
              "    .dataframe tbody tr th {\n",
              "        vertical-align: top;\n",
              "    }\n",
              "\n",
              "    .dataframe thead th {\n",
              "        text-align: right;\n",
              "    }\n",
              "</style>\n",
              "<table border=\"1\" class=\"dataframe\">\n",
              "  <thead>\n",
              "    <tr style=\"text-align: right;\">\n",
              "      <th></th>\n",
              "      <th>AT</th>\n",
              "      <th>V</th>\n",
              "      <th>AP</th>\n",
              "      <th>RH</th>\n",
              "      <th>PE</th>\n",
              "    </tr>\n",
              "  </thead>\n",
              "  <tbody>\n",
              "    <tr>\n",
              "      <th>0</th>\n",
              "      <td>14.96</td>\n",
              "      <td>41.76</td>\n",
              "      <td>1024.07</td>\n",
              "      <td>73.17</td>\n",
              "      <td>463.26</td>\n",
              "    </tr>\n",
              "    <tr>\n",
              "      <th>1</th>\n",
              "      <td>25.18</td>\n",
              "      <td>62.96</td>\n",
              "      <td>1020.04</td>\n",
              "      <td>59.08</td>\n",
              "      <td>444.37</td>\n",
              "    </tr>\n",
              "    <tr>\n",
              "      <th>2</th>\n",
              "      <td>5.11</td>\n",
              "      <td>39.40</td>\n",
              "      <td>1012.16</td>\n",
              "      <td>92.14</td>\n",
              "      <td>488.56</td>\n",
              "    </tr>\n",
              "    <tr>\n",
              "      <th>3</th>\n",
              "      <td>20.86</td>\n",
              "      <td>57.32</td>\n",
              "      <td>1010.24</td>\n",
              "      <td>76.64</td>\n",
              "      <td>446.48</td>\n",
              "    </tr>\n",
              "    <tr>\n",
              "      <th>4</th>\n",
              "      <td>10.82</td>\n",
              "      <td>37.50</td>\n",
              "      <td>1009.23</td>\n",
              "      <td>96.62</td>\n",
              "      <td>473.90</td>\n",
              "    </tr>\n",
              "  </tbody>\n",
              "</table>\n",
              "</div>"
            ],
            "text/plain": [
              "      AT      V       AP     RH      PE\n",
              "0  14.96  41.76  1024.07  73.17  463.26\n",
              "1  25.18  62.96  1020.04  59.08  444.37\n",
              "2   5.11  39.40  1012.16  92.14  488.56\n",
              "3  20.86  57.32  1010.24  76.64  446.48\n",
              "4  10.82  37.50  1009.23  96.62  473.90"
            ]
          },
          "metadata": {
            "tags": []
          },
          "execution_count": 25
        }
      ]
    },
    {
      "cell_type": "code",
      "metadata": {
        "colab": {
          "base_uri": "https://localhost:8080/",
          "height": 419
        },
        "id": "pg695FihpPLH",
        "outputId": "807a30c8-08a6-467b-ab30-5ec347fd3f95"
      },
      "source": [
        "dataset.rename(columns={\"AT\": \"Temperature\",\"V\":\"Exhaust Vacuum\",\"AP\":\"Ambient Pressure\",\"RH\":\"Relative Humidity\",\"PE\":\"Hourly Energy Output\"})"
      ],
      "execution_count": 26,
      "outputs": [
        {
          "output_type": "execute_result",
          "data": {
            "text/html": [
              "<div>\n",
              "<style scoped>\n",
              "    .dataframe tbody tr th:only-of-type {\n",
              "        vertical-align: middle;\n",
              "    }\n",
              "\n",
              "    .dataframe tbody tr th {\n",
              "        vertical-align: top;\n",
              "    }\n",
              "\n",
              "    .dataframe thead th {\n",
              "        text-align: right;\n",
              "    }\n",
              "</style>\n",
              "<table border=\"1\" class=\"dataframe\">\n",
              "  <thead>\n",
              "    <tr style=\"text-align: right;\">\n",
              "      <th></th>\n",
              "      <th>Temperature</th>\n",
              "      <th>Exhaust Vacuum</th>\n",
              "      <th>Ambient Pressure</th>\n",
              "      <th>Relative Humidity</th>\n",
              "      <th>Hourly Energy Output</th>\n",
              "    </tr>\n",
              "  </thead>\n",
              "  <tbody>\n",
              "    <tr>\n",
              "      <th>0</th>\n",
              "      <td>14.96</td>\n",
              "      <td>41.76</td>\n",
              "      <td>1024.07</td>\n",
              "      <td>73.17</td>\n",
              "      <td>463.26</td>\n",
              "    </tr>\n",
              "    <tr>\n",
              "      <th>1</th>\n",
              "      <td>25.18</td>\n",
              "      <td>62.96</td>\n",
              "      <td>1020.04</td>\n",
              "      <td>59.08</td>\n",
              "      <td>444.37</td>\n",
              "    </tr>\n",
              "    <tr>\n",
              "      <th>2</th>\n",
              "      <td>5.11</td>\n",
              "      <td>39.40</td>\n",
              "      <td>1012.16</td>\n",
              "      <td>92.14</td>\n",
              "      <td>488.56</td>\n",
              "    </tr>\n",
              "    <tr>\n",
              "      <th>3</th>\n",
              "      <td>20.86</td>\n",
              "      <td>57.32</td>\n",
              "      <td>1010.24</td>\n",
              "      <td>76.64</td>\n",
              "      <td>446.48</td>\n",
              "    </tr>\n",
              "    <tr>\n",
              "      <th>4</th>\n",
              "      <td>10.82</td>\n",
              "      <td>37.50</td>\n",
              "      <td>1009.23</td>\n",
              "      <td>96.62</td>\n",
              "      <td>473.90</td>\n",
              "    </tr>\n",
              "    <tr>\n",
              "      <th>...</th>\n",
              "      <td>...</td>\n",
              "      <td>...</td>\n",
              "      <td>...</td>\n",
              "      <td>...</td>\n",
              "      <td>...</td>\n",
              "    </tr>\n",
              "    <tr>\n",
              "      <th>9563</th>\n",
              "      <td>16.65</td>\n",
              "      <td>49.69</td>\n",
              "      <td>1014.01</td>\n",
              "      <td>91.00</td>\n",
              "      <td>460.03</td>\n",
              "    </tr>\n",
              "    <tr>\n",
              "      <th>9564</th>\n",
              "      <td>13.19</td>\n",
              "      <td>39.18</td>\n",
              "      <td>1023.67</td>\n",
              "      <td>66.78</td>\n",
              "      <td>469.62</td>\n",
              "    </tr>\n",
              "    <tr>\n",
              "      <th>9565</th>\n",
              "      <td>31.32</td>\n",
              "      <td>74.33</td>\n",
              "      <td>1012.92</td>\n",
              "      <td>36.48</td>\n",
              "      <td>429.57</td>\n",
              "    </tr>\n",
              "    <tr>\n",
              "      <th>9566</th>\n",
              "      <td>24.48</td>\n",
              "      <td>69.45</td>\n",
              "      <td>1013.86</td>\n",
              "      <td>62.39</td>\n",
              "      <td>435.74</td>\n",
              "    </tr>\n",
              "    <tr>\n",
              "      <th>9567</th>\n",
              "      <td>21.60</td>\n",
              "      <td>62.52</td>\n",
              "      <td>1017.23</td>\n",
              "      <td>67.87</td>\n",
              "      <td>453.28</td>\n",
              "    </tr>\n",
              "  </tbody>\n",
              "</table>\n",
              "<p>9568 rows × 5 columns</p>\n",
              "</div>"
            ],
            "text/plain": [
              "      Temperature  Exhaust Vacuum  ...  Relative Humidity  Hourly Energy Output\n",
              "0           14.96           41.76  ...              73.17                463.26\n",
              "1           25.18           62.96  ...              59.08                444.37\n",
              "2            5.11           39.40  ...              92.14                488.56\n",
              "3           20.86           57.32  ...              76.64                446.48\n",
              "4           10.82           37.50  ...              96.62                473.90\n",
              "...           ...             ...  ...                ...                   ...\n",
              "9563        16.65           49.69  ...              91.00                460.03\n",
              "9564        13.19           39.18  ...              66.78                469.62\n",
              "9565        31.32           74.33  ...              36.48                429.57\n",
              "9566        24.48           69.45  ...              62.39                435.74\n",
              "9567        21.60           62.52  ...              67.87                453.28\n",
              "\n",
              "[9568 rows x 5 columns]"
            ]
          },
          "metadata": {
            "tags": []
          },
          "execution_count": 26
        }
      ]
    },
    {
      "cell_type": "code",
      "metadata": {
        "id": "qymAU6lqqYQ-"
      },
      "source": [
        "#Convert the input variables to a matrix and target vector\r\n",
        "X = dataset.iloc[:,0:-1].values\r\n",
        "y = dataset.iloc[:,-1].values"
      ],
      "execution_count": 30,
      "outputs": []
    },
    {
      "cell_type": "markdown",
      "metadata": {
        "id": "VC6omXel_Up0"
      },
      "source": [
        "### Splitting the dataset into the Training set and Test set"
      ]
    },
    {
      "cell_type": "code",
      "metadata": {
        "id": "gdPahSROqV7F"
      },
      "source": [
        "from sklearn.model_selection import train_test_split\r\n",
        "X_train,X_test,y_train,y_test = train_test_split(X,y,test_size=0.2,random_state=42)"
      ],
      "execution_count": 31,
      "outputs": []
    },
    {
      "cell_type": "markdown",
      "metadata": {
        "id": "_mSLlAT9_eyI"
      },
      "source": [
        "## Part 2 - Building the ANN"
      ]
    },
    {
      "cell_type": "markdown",
      "metadata": {
        "id": "CsBULd_f_wLY"
      },
      "source": [
        "### Initializing the ANN"
      ]
    },
    {
      "cell_type": "code",
      "metadata": {
        "id": "zIb__2Ynibx3"
      },
      "source": [
        "ann = tf.keras.models.Sequential()"
      ],
      "execution_count": 33,
      "outputs": []
    },
    {
      "cell_type": "markdown",
      "metadata": {
        "id": "iitAFJS_ABUn"
      },
      "source": [
        "### Adding the input layer and the first hidden layer"
      ]
    },
    {
      "cell_type": "code",
      "metadata": {
        "id": "Cfn_0Wa4mSns"
      },
      "source": [
        "ann.add(tf.keras.layers.Dense(units=6,activation='relu'))"
      ],
      "execution_count": 34,
      "outputs": []
    },
    {
      "cell_type": "markdown",
      "metadata": {
        "id": "-lb4kK_wAKbs"
      },
      "source": [
        "### Adding the second hidden layer"
      ]
    },
    {
      "cell_type": "code",
      "metadata": {
        "id": "4_MQJx7NoL6E"
      },
      "source": [
        "ann.add(tf.keras.layers.Dense(units=6,activation='relu'))"
      ],
      "execution_count": 35,
      "outputs": []
    },
    {
      "cell_type": "markdown",
      "metadata": {
        "id": "jwMOmKb3AdBY"
      },
      "source": [
        "### Adding the output layer"
      ]
    },
    {
      "cell_type": "code",
      "metadata": {
        "id": "cPdaArt4obU-"
      },
      "source": [
        "ann.add(tf.keras.layers.Dense(units=1))"
      ],
      "execution_count": 36,
      "outputs": []
    },
    {
      "cell_type": "markdown",
      "metadata": {
        "id": "fq7e4fF6A1yy"
      },
      "source": [
        "## Part 3 - Training the ANN"
      ]
    },
    {
      "cell_type": "markdown",
      "metadata": {
        "id": "qDeylAs2An25"
      },
      "source": [
        "### Compiling the ANN"
      ]
    },
    {
      "cell_type": "code",
      "metadata": {
        "id": "GlwHIsd3pzi3"
      },
      "source": [
        "ann.compile(optimizer='adam', loss='mean_squared_error')"
      ],
      "execution_count": 38,
      "outputs": []
    },
    {
      "cell_type": "markdown",
      "metadata": {
        "id": "YjVuiybYOo7r"
      },
      "source": [
        "### Training the ANN model on the Training set"
      ]
    },
    {
      "cell_type": "code",
      "metadata": {
        "colab": {
          "base_uri": "https://localhost:8080/"
        },
        "id": "zFln2xhqr__V",
        "outputId": "35e55c31-995e-435f-82f4-1f7af2876c1d"
      },
      "source": [
        "ann.fit(X_train,y_train,batch_size=32,epochs=100,validation_split=0.1)"
      ],
      "execution_count": 40,
      "outputs": [
        {
          "output_type": "stream",
          "text": [
            "Epoch 1/100\n",
            "216/216 [==============================] - 0s 2ms/step - loss: 26.2365 - val_loss: 25.2265\n",
            "Epoch 2/100\n",
            "216/216 [==============================] - 0s 1ms/step - loss: 26.7176 - val_loss: 25.4263\n",
            "Epoch 3/100\n",
            "216/216 [==============================] - 0s 2ms/step - loss: 26.6307 - val_loss: 25.3124\n",
            "Epoch 4/100\n",
            "216/216 [==============================] - 0s 1ms/step - loss: 26.9259 - val_loss: 25.9950\n",
            "Epoch 5/100\n",
            "216/216 [==============================] - 0s 1ms/step - loss: 26.6563 - val_loss: 27.0522\n",
            "Epoch 6/100\n",
            "216/216 [==============================] - 0s 1ms/step - loss: 26.4826 - val_loss: 25.4524\n",
            "Epoch 7/100\n",
            "216/216 [==============================] - 0s 1ms/step - loss: 26.6794 - val_loss: 25.2340\n",
            "Epoch 8/100\n",
            "216/216 [==============================] - 0s 1ms/step - loss: 26.3924 - val_loss: 25.0557\n",
            "Epoch 9/100\n",
            "216/216 [==============================] - 0s 1ms/step - loss: 26.3169 - val_loss: 26.2542\n",
            "Epoch 10/100\n",
            "216/216 [==============================] - 0s 2ms/step - loss: 26.2737 - val_loss: 27.0043\n",
            "Epoch 11/100\n",
            "216/216 [==============================] - 0s 1ms/step - loss: 26.9274 - val_loss: 25.0738\n",
            "Epoch 12/100\n",
            "216/216 [==============================] - 0s 1ms/step - loss: 26.6099 - val_loss: 25.7012\n",
            "Epoch 13/100\n",
            "216/216 [==============================] - 0s 1ms/step - loss: 26.7050 - val_loss: 26.0943\n",
            "Epoch 14/100\n",
            "216/216 [==============================] - 0s 1ms/step - loss: 26.5010 - val_loss: 28.2669\n",
            "Epoch 15/100\n",
            "216/216 [==============================] - 0s 1ms/step - loss: 26.4991 - val_loss: 25.2150\n",
            "Epoch 16/100\n",
            "216/216 [==============================] - 0s 1ms/step - loss: 26.4464 - val_loss: 25.5574\n",
            "Epoch 17/100\n",
            "216/216 [==============================] - 0s 1ms/step - loss: 26.5393 - val_loss: 25.5866\n",
            "Epoch 18/100\n",
            "216/216 [==============================] - 0s 2ms/step - loss: 26.3417 - val_loss: 26.6064\n",
            "Epoch 19/100\n",
            "216/216 [==============================] - 0s 1ms/step - loss: 26.2032 - val_loss: 26.3329\n",
            "Epoch 20/100\n",
            "216/216 [==============================] - 0s 1ms/step - loss: 26.7812 - val_loss: 25.0444\n",
            "Epoch 21/100\n",
            "216/216 [==============================] - 0s 1ms/step - loss: 26.4643 - val_loss: 30.8992\n",
            "Epoch 22/100\n",
            "216/216 [==============================] - 0s 2ms/step - loss: 27.0474 - val_loss: 25.4678\n",
            "Epoch 23/100\n",
            "216/216 [==============================] - 0s 1ms/step - loss: 26.3719 - val_loss: 25.3509\n",
            "Epoch 24/100\n",
            "216/216 [==============================] - 0s 1ms/step - loss: 26.4315 - val_loss: 25.0261\n",
            "Epoch 25/100\n",
            "216/216 [==============================] - 0s 1ms/step - loss: 26.8765 - val_loss: 25.0444\n",
            "Epoch 26/100\n",
            "216/216 [==============================] - 0s 1ms/step - loss: 26.9594 - val_loss: 26.1202\n",
            "Epoch 27/100\n",
            "216/216 [==============================] - 0s 1ms/step - loss: 26.6053 - val_loss: 25.5060\n",
            "Epoch 28/100\n",
            "216/216 [==============================] - 0s 2ms/step - loss: 26.9523 - val_loss: 25.1839\n",
            "Epoch 29/100\n",
            "216/216 [==============================] - 0s 1ms/step - loss: 26.4649 - val_loss: 25.2792\n",
            "Epoch 30/100\n",
            "216/216 [==============================] - 0s 1ms/step - loss: 26.6373 - val_loss: 27.2846\n",
            "Epoch 31/100\n",
            "216/216 [==============================] - 0s 1ms/step - loss: 26.8559 - val_loss: 25.4866\n",
            "Epoch 32/100\n",
            "216/216 [==============================] - 0s 1ms/step - loss: 26.3833 - val_loss: 25.1738\n",
            "Epoch 33/100\n",
            "216/216 [==============================] - 0s 1ms/step - loss: 27.5848 - val_loss: 25.2627\n",
            "Epoch 34/100\n",
            "216/216 [==============================] - 0s 1ms/step - loss: 26.7648 - val_loss: 25.0537\n",
            "Epoch 35/100\n",
            "216/216 [==============================] - 0s 1ms/step - loss: 26.5910 - val_loss: 25.4353\n",
            "Epoch 36/100\n",
            "216/216 [==============================] - 0s 1ms/step - loss: 26.5934 - val_loss: 25.1527\n",
            "Epoch 37/100\n",
            "216/216 [==============================] - 0s 2ms/step - loss: 26.8427 - val_loss: 28.0591\n",
            "Epoch 38/100\n",
            "216/216 [==============================] - 0s 1ms/step - loss: 26.5702 - val_loss: 25.4693\n",
            "Epoch 39/100\n",
            "216/216 [==============================] - 1s 2ms/step - loss: 26.3868 - val_loss: 25.8058\n",
            "Epoch 40/100\n",
            "216/216 [==============================] - 0s 1ms/step - loss: 26.3549 - val_loss: 25.5663\n",
            "Epoch 41/100\n",
            "216/216 [==============================] - 0s 1ms/step - loss: 26.3942 - val_loss: 28.4189\n",
            "Epoch 42/100\n",
            "216/216 [==============================] - 0s 1ms/step - loss: 26.7063 - val_loss: 25.0621\n",
            "Epoch 43/100\n",
            "216/216 [==============================] - 0s 1ms/step - loss: 26.7934 - val_loss: 26.1728\n",
            "Epoch 44/100\n",
            "216/216 [==============================] - 0s 1ms/step - loss: 26.7762 - val_loss: 25.1013\n",
            "Epoch 45/100\n",
            "216/216 [==============================] - 0s 1ms/step - loss: 26.4798 - val_loss: 25.0315\n",
            "Epoch 46/100\n",
            "216/216 [==============================] - 0s 1ms/step - loss: 26.8359 - val_loss: 25.0574\n",
            "Epoch 47/100\n",
            "216/216 [==============================] - 0s 1ms/step - loss: 26.4610 - val_loss: 26.4565\n",
            "Epoch 48/100\n",
            "216/216 [==============================] - 0s 1ms/step - loss: 26.7048 - val_loss: 28.0857\n",
            "Epoch 49/100\n",
            "216/216 [==============================] - 0s 1ms/step - loss: 26.7191 - val_loss: 26.2989\n",
            "Epoch 50/100\n",
            "216/216 [==============================] - 0s 1ms/step - loss: 26.6612 - val_loss: 26.0499\n",
            "Epoch 51/100\n",
            "216/216 [==============================] - 0s 1ms/step - loss: 26.7798 - val_loss: 25.0474\n",
            "Epoch 52/100\n",
            "216/216 [==============================] - 0s 1ms/step - loss: 26.7262 - val_loss: 25.0457\n",
            "Epoch 53/100\n",
            "216/216 [==============================] - 0s 1ms/step - loss: 26.3289 - val_loss: 25.0597\n",
            "Epoch 54/100\n",
            "216/216 [==============================] - 0s 1ms/step - loss: 26.4977 - val_loss: 25.0918\n",
            "Epoch 55/100\n",
            "216/216 [==============================] - 0s 2ms/step - loss: 26.4662 - val_loss: 25.0447\n",
            "Epoch 56/100\n",
            "216/216 [==============================] - 0s 1ms/step - loss: 26.2219 - val_loss: 26.5388\n",
            "Epoch 57/100\n",
            "216/216 [==============================] - 0s 2ms/step - loss: 26.7559 - val_loss: 25.1696\n",
            "Epoch 58/100\n",
            "216/216 [==============================] - 0s 1ms/step - loss: 27.2042 - val_loss: 25.2748\n",
            "Epoch 59/100\n",
            "216/216 [==============================] - 0s 1ms/step - loss: 26.7228 - val_loss: 25.3621\n",
            "Epoch 60/100\n",
            "216/216 [==============================] - 0s 1ms/step - loss: 26.3460 - val_loss: 28.8647\n",
            "Epoch 61/100\n",
            "216/216 [==============================] - 0s 1ms/step - loss: 27.2039 - val_loss: 25.1419\n",
            "Epoch 62/100\n",
            "216/216 [==============================] - 0s 1ms/step - loss: 26.3835 - val_loss: 27.2824\n",
            "Epoch 63/100\n",
            "216/216 [==============================] - 0s 1ms/step - loss: 26.3818 - val_loss: 25.1214\n",
            "Epoch 64/100\n",
            "216/216 [==============================] - 0s 2ms/step - loss: 26.5846 - val_loss: 27.9343\n",
            "Epoch 65/100\n",
            "216/216 [==============================] - 0s 2ms/step - loss: 26.5763 - val_loss: 25.2092\n",
            "Epoch 66/100\n",
            "216/216 [==============================] - 0s 1ms/step - loss: 26.5839 - val_loss: 30.4731\n",
            "Epoch 67/100\n",
            "216/216 [==============================] - 0s 1ms/step - loss: 26.3612 - val_loss: 25.6215\n",
            "Epoch 68/100\n",
            "216/216 [==============================] - 0s 1ms/step - loss: 26.8160 - val_loss: 26.4164\n",
            "Epoch 69/100\n",
            "216/216 [==============================] - 0s 1ms/step - loss: 26.7757 - val_loss: 26.6862\n",
            "Epoch 70/100\n",
            "216/216 [==============================] - 0s 2ms/step - loss: 26.6794 - val_loss: 25.0578\n",
            "Epoch 71/100\n",
            "216/216 [==============================] - 0s 1ms/step - loss: 26.6177 - val_loss: 30.6755\n",
            "Epoch 72/100\n",
            "216/216 [==============================] - 0s 1ms/step - loss: 26.6969 - val_loss: 25.5932\n",
            "Epoch 73/100\n",
            "216/216 [==============================] - 0s 1ms/step - loss: 26.8989 - val_loss: 26.2864\n",
            "Epoch 74/100\n",
            "216/216 [==============================] - 0s 1ms/step - loss: 26.4139 - val_loss: 25.2413\n",
            "Epoch 75/100\n",
            "216/216 [==============================] - 0s 1ms/step - loss: 26.7907 - val_loss: 26.8342\n",
            "Epoch 76/100\n",
            "216/216 [==============================] - 0s 1ms/step - loss: 26.2985 - val_loss: 25.5439\n",
            "Epoch 77/100\n",
            "216/216 [==============================] - 0s 2ms/step - loss: 26.2819 - val_loss: 25.3067\n",
            "Epoch 78/100\n",
            "216/216 [==============================] - 0s 1ms/step - loss: 27.0019 - val_loss: 27.2501\n",
            "Epoch 79/100\n",
            "216/216 [==============================] - 0s 2ms/step - loss: 26.5809 - val_loss: 25.0286\n",
            "Epoch 80/100\n",
            "216/216 [==============================] - 0s 1ms/step - loss: 26.5140 - val_loss: 25.0394\n",
            "Epoch 81/100\n",
            "216/216 [==============================] - 0s 1ms/step - loss: 26.2911 - val_loss: 25.4426\n",
            "Epoch 82/100\n",
            "216/216 [==============================] - 0s 1ms/step - loss: 27.1452 - val_loss: 28.2994\n",
            "Epoch 83/100\n",
            "216/216 [==============================] - 0s 1ms/step - loss: 26.3651 - val_loss: 28.2676\n",
            "Epoch 84/100\n",
            "216/216 [==============================] - 0s 2ms/step - loss: 26.8230 - val_loss: 27.7678\n",
            "Epoch 85/100\n",
            "216/216 [==============================] - 0s 1ms/step - loss: 26.8524 - val_loss: 25.8126\n",
            "Epoch 86/100\n",
            "216/216 [==============================] - 0s 1ms/step - loss: 27.3546 - val_loss: 25.9543\n",
            "Epoch 87/100\n",
            "216/216 [==============================] - 0s 1ms/step - loss: 26.4480 - val_loss: 29.8899\n",
            "Epoch 88/100\n",
            "216/216 [==============================] - 0s 1ms/step - loss: 26.6158 - val_loss: 26.6481\n",
            "Epoch 89/100\n",
            "216/216 [==============================] - 0s 1ms/step - loss: 26.3718 - val_loss: 25.3240\n",
            "Epoch 90/100\n",
            "216/216 [==============================] - 0s 1ms/step - loss: 26.6158 - val_loss: 25.1231\n",
            "Epoch 91/100\n",
            "216/216 [==============================] - 0s 2ms/step - loss: 26.6184 - val_loss: 26.8425\n",
            "Epoch 92/100\n",
            "216/216 [==============================] - 1s 4ms/step - loss: 26.1709 - val_loss: 25.1587\n",
            "Epoch 93/100\n",
            "216/216 [==============================] - 0s 1ms/step - loss: 26.7572 - val_loss: 25.1897\n",
            "Epoch 94/100\n",
            "216/216 [==============================] - 0s 2ms/step - loss: 26.4563 - val_loss: 25.9797\n",
            "Epoch 95/100\n",
            "216/216 [==============================] - 0s 1ms/step - loss: 27.1686 - val_loss: 25.1339\n",
            "Epoch 96/100\n",
            "216/216 [==============================] - 1s 2ms/step - loss: 26.8233 - val_loss: 25.0341\n",
            "Epoch 97/100\n",
            "216/216 [==============================] - 0s 1ms/step - loss: 26.4712 - val_loss: 25.5664\n",
            "Epoch 98/100\n",
            "216/216 [==============================] - 0s 2ms/step - loss: 26.3181 - val_loss: 26.6905\n",
            "Epoch 99/100\n",
            "216/216 [==============================] - 0s 1ms/step - loss: 26.5796 - val_loss: 25.3402\n",
            "Epoch 100/100\n",
            "216/216 [==============================] - 0s 2ms/step - loss: 26.9669 - val_loss: 28.3061\n"
          ],
          "name": "stdout"
        },
        {
          "output_type": "execute_result",
          "data": {
            "text/plain": [
              "<tensorflow.python.keras.callbacks.History at 0x7ff4cb746198>"
            ]
          },
          "metadata": {
            "tags": []
          },
          "execution_count": 40
        }
      ]
    },
    {
      "cell_type": "markdown",
      "metadata": {
        "id": "0H0zKKNEBLD5"
      },
      "source": [
        "### Predicting the results of the Test set"
      ]
    },
    {
      "cell_type": "code",
      "metadata": {
        "id": "nSB29PDItqm-"
      },
      "source": [
        "y_pred = ann.predict(X_test)"
      ],
      "execution_count": 42,
      "outputs": []
    },
    {
      "cell_type": "code",
      "metadata": {
        "id": "yhld_WLEtxQo"
      },
      "source": [
        "from sklearn.metrics import r2_score"
      ],
      "execution_count": 43,
      "outputs": []
    },
    {
      "cell_type": "code",
      "metadata": {
        "colab": {
          "base_uri": "https://localhost:8080/"
        },
        "id": "S4TZHpo_xFMQ",
        "outputId": "8e3bf2fa-a1b8-43b9-9bed-5b5a4e3e0f1f"
      },
      "source": [
        "r2_score(y_test,y_pred)"
      ],
      "execution_count": 44,
      "outputs": [
        {
          "output_type": "execute_result",
          "data": {
            "text/plain": [
              "0.9017417950407658"
            ]
          },
          "metadata": {
            "tags": []
          },
          "execution_count": 44
        }
      ]
    },
    {
      "cell_type": "code",
      "metadata": {
        "id": "Jt2ZSULTxI5J"
      },
      "source": [
        ""
      ],
      "execution_count": null,
      "outputs": []
    }
  ]
}